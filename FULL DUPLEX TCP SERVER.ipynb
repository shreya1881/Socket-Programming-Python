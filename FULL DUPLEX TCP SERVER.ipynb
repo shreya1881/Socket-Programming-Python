{
 "cells": [
  {
   "cell_type": "code",
   "execution_count": null,
   "id": "02237247",
   "metadata": {},
   "outputs": [
    {
     "name": "stdout",
     "output_type": "stream",
     "text": [
      "Connected to 192.168.107.1:50563\n",
      "Thread Number:  1\n"
     ]
    }
   ],
   "source": [
    "import socket\n",
    "import os\n",
    "from _thread import *\n",
    "s=socket.socket()\n",
    "port=4555\n",
    "host=socket.gethostname()\n",
    "ThreadCount=0\n",
    "try:\n",
    "    s.bind((host,port))\n",
    "except socket.error as e:\n",
    "    print(str(e))\n",
    "    print('Server is listening')\n",
    "s.listen(5)\n",
    "def multi_threaded_client(connection):\n",
    "    connection.send(str.encode('server is working'))\n",
    "    while True:\n",
    "        data=connection.recv(2048)\n",
    "        response='Server Message: '+data.decode('utf-8')\n",
    "        if not data:\n",
    "            break\n",
    "        connection.sendall(str.encode(response))\n",
    "    connection.close()\n",
    "while True:\n",
    "    c,address=s.accept()\n",
    "    print(\"Connected to \"+address[0]+':'+str(address[1]))\n",
    "    start_new_thread(multi_threaded_client, (c, ))\n",
    "    ThreadCount+=1\n",
    "    print(\"Thread Number: \",str(ThreadCount))\n",
    "s.close()"
   ]
  },
  {
   "cell_type": "code",
   "execution_count": null,
   "id": "c7aaccf7",
   "metadata": {},
   "outputs": [],
   "source": []
  }
 ],
 "metadata": {
  "kernelspec": {
   "display_name": "Python 3 (ipykernel)",
   "language": "python",
   "name": "python3"
  },
  "language_info": {
   "codemirror_mode": {
    "name": "ipython",
    "version": 3
   },
   "file_extension": ".py",
   "mimetype": "text/x-python",
   "name": "python",
   "nbconvert_exporter": "python",
   "pygments_lexer": "ipython3",
   "version": "3.9.7"
  }
 },
 "nbformat": 4,
 "nbformat_minor": 5
}
