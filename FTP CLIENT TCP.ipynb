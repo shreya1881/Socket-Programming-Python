{
 "cells": [
  {
   "cell_type": "code",
   "execution_count": 1,
   "id": "876c152d",
   "metadata": {},
   "outputs": [
    {
     "name": "stdout",
     "output_type": "stream",
     "text": [
      "[SERVER]:filename received\n",
      "[SERVER]:file data received\n"
     ]
    }
   ],
   "source": [
    "import socket \n",
    "host = socket.gethostname()\n",
    "port = 4455\n",
    "def main():\n",
    "    s = socket.socket()\n",
    "    s.connect((host,port))\n",
    "    file = open(\"wow.txt\",\"r\")\n",
    "    data = file.read()\n",
    "    s.send(\"wow.txt\".encode(\"utf-8\"))\n",
    "    message = s.recv(1024).decode(\"utf-8\")\n",
    "    print(f'[SERVER]:{message}')\n",
    "    s.send(data.encode(\"utf-8\"))\n",
    "    message = s.recv(1024).decode(\"utf-8\")\n",
    "    print(f'[SERVER]:{message}')\n",
    "    file.close()\n",
    "    s.close()\n",
    "if __name__ == \"__main__\":\n",
    "    main()"
   ]
  },
  {
   "cell_type": "code",
   "execution_count": null,
   "id": "b2b0355f",
   "metadata": {},
   "outputs": [],
   "source": []
  }
 ],
 "metadata": {
  "kernelspec": {
   "display_name": "Python 3 (ipykernel)",
   "language": "python",
   "name": "python3"
  },
  "language_info": {
   "codemirror_mode": {
    "name": "ipython",
    "version": 3
   },
   "file_extension": ".py",
   "mimetype": "text/x-python",
   "name": "python",
   "nbconvert_exporter": "python",
   "pygments_lexer": "ipython3",
   "version": "3.9.7"
  }
 },
 "nbformat": 4,
 "nbformat_minor": 5
}
