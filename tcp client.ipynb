{
 "cells": [
  {
   "cell_type": "code",
   "execution_count": 1,
   "id": "b9369c56",
   "metadata": {},
   "outputs": [
    {
     "name": "stdout",
     "output_type": "stream",
     "text": [
      "b'Sat Nov 26 21:37:39 2022'\n"
     ]
    }
   ],
   "source": [
    "import socket\n",
    "import os\n",
    "s=socket.socket()\n",
    "host=socket.gethostname()\n",
    "port=12346\n",
    "s.connect((host,port))\n",
    "s.send(b'Today day-time')\n",
    "res1=s.recv(1024)\n",
    "print(res1)\n",
    "s.close()"
   ]
  },
  {
   "cell_type": "code",
   "execution_count": null,
   "id": "120dfdfe",
   "metadata": {},
   "outputs": [],
   "source": []
  }
 ],
 "metadata": {
  "kernelspec": {
   "display_name": "Python 3 (ipykernel)",
   "language": "python",
   "name": "python3"
  },
  "language_info": {
   "codemirror_mode": {
    "name": "ipython",
    "version": 3
   },
   "file_extension": ".py",
   "mimetype": "text/x-python",
   "name": "python",
   "nbconvert_exporter": "python",
   "pygments_lexer": "ipython3",
   "version": "3.9.7"
  }
 },
 "nbformat": 4,
 "nbformat_minor": 5
}
