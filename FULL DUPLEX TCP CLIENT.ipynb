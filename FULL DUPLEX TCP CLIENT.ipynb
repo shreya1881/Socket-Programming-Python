{
 "cells": [
  {
   "cell_type": "code",
   "execution_count": null,
   "id": "0855828d",
   "metadata": {},
   "outputs": [
    {
     "name": "stdout",
     "output_type": "stream",
     "text": [
      "Waiting for connection\n",
      "Hello Server: hi\n",
      "server is working\n",
      "Hello Server: wassup\n",
      "Server Message: hi\n",
      "Hello Server: wbu\n",
      "Server Message: wassup\n",
      "Hello Server: nm\n",
      "Server Message: wbu\n",
      "Hello Server: same\n",
      "Server Message: nm\n",
      "Hello Server: bye\n",
      "Server Message: same\n"
     ]
    }
   ],
   "source": [
    "import socket\n",
    "import os\n",
    "s=socket.socket()\n",
    "host=socket.gethostname()\n",
    "port=4555\n",
    "print('Waiting for connection')\n",
    "try:\n",
    "    s.connect((host,port))\n",
    "except socket.error as e:\n",
    "    print(str(e))\n",
    "    res=s.recv(1024)\n",
    "    print(str(res,'utf-8'))\n",
    "while True:\n",
    "    Input=input(\"Hello Server: \")\n",
    "    s.send(str.encode(Input))\n",
    "    res=s.recv(1024)\n",
    "    print(res.decode('utf-8'))\n",
    "s.close()"
   ]
  },
  {
   "cell_type": "code",
   "execution_count": null,
   "id": "116b8a35",
   "metadata": {},
   "outputs": [],
   "source": []
  }
 ],
 "metadata": {
  "kernelspec": {
   "display_name": "Python 3 (ipykernel)",
   "language": "python",
   "name": "python3"
  },
  "language_info": {
   "codemirror_mode": {
    "name": "ipython",
    "version": 3
   },
   "file_extension": ".py",
   "mimetype": "text/x-python",
   "name": "python",
   "nbconvert_exporter": "python",
   "pygments_lexer": "ipython3",
   "version": "3.9.7"
  }
 },
 "nbformat": 4,
 "nbformat_minor": 5
}
