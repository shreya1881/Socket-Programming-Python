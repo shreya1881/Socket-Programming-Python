{
 "cells": [
  {
   "cell_type": "code",
   "execution_count": null,
   "id": "dac0bf7e",
   "metadata": {},
   "outputs": [
    {
     "name": "stdout",
     "output_type": "stream",
     "text": [
      "server is starting\n",
      "server is listening\n",
      "receving filename\n",
      "receiving file data\n",
      "HUT BC!!!!!!!! FO\n",
      "\n"
     ]
    }
   ],
   "source": [
    "import socket\n",
    "host = socket.gethostname()\n",
    "port= 4455\n",
    "def main():\n",
    "    print(\"server is starting\")\n",
    "    s = socket.socket()\n",
    "    s.bind((host,port))\n",
    "    s.listen(5)\n",
    "    print('server is listening')\n",
    "    while True:\n",
    "        c,addr = s.accept()\n",
    "        filename = c.recv(1024).decode('utf-8')\n",
    "        print(f'receving filename')\n",
    "        file = open(filename,\"w\")\n",
    "        c.send(\"filename received\".encode(\"utf-8\"))\n",
    "        data = c.recv(1024).decode(\"utf-8\")\n",
    "        print(f\"receiving file data\")\n",
    "        file.write(data)\n",
    "        print(data)\n",
    "        c.send(\"file data received\".encode(\"utf-8\"))\n",
    "        file.close()\n",
    "        c.close()\n",
    "if __name__ == \"__main__\":\n",
    "    main()"
   ]
  },
  {
   "cell_type": "code",
   "execution_count": null,
   "id": "1e546200",
   "metadata": {},
   "outputs": [],
   "source": []
  }
 ],
 "metadata": {
  "kernelspec": {
   "display_name": "Python 3 (ipykernel)",
   "language": "python",
   "name": "python3"
  },
  "language_info": {
   "codemirror_mode": {
    "name": "ipython",
    "version": 3
   },
   "file_extension": ".py",
   "mimetype": "text/x-python",
   "name": "python",
   "nbconvert_exporter": "python",
   "pygments_lexer": "ipython3",
   "version": "3.9.7"
  }
 },
 "nbformat": 4,
 "nbformat_minor": 5
}
