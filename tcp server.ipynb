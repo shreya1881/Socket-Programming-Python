{
 "cells": [
  {
   "cell_type": "code",
   "execution_count": null,
   "id": "f19614a6",
   "metadata": {},
   "outputs": [
    {
     "name": "stdout",
     "output_type": "stream",
     "text": [
      "Server connected at LAPTOP-OS4E9JLB:12346\n",
      "Got connection from ('192.168.107.1', 53120)\n"
     ]
    }
   ],
   "source": [
    "import socket\n",
    "s=socket.socket()\n",
    "host=socket.gethostname()\n",
    "port=12346\n",
    "s.bind((host,port))\n",
    "print(f'Server connected at {host}:{port}')\n",
    "s.listen(5)\n",
    "while True:\n",
    "    c,addr=s.accept()\n",
    "    print(\"Got connection from\",addr)\n",
    "    req1=c.recv(1024)\n",
    "    req1=str(req1,'utf-8')\n",
    "    if(req1==\"Today day-time\"):\n",
    "        c.send(b'Sat Nov 26 21:37:39 2022')\n",
    "c.close()"
   ]
  },
  {
   "cell_type": "code",
   "execution_count": null,
   "id": "434b89af",
   "metadata": {},
   "outputs": [],
   "source": []
  }
 ],
 "metadata": {
  "kernelspec": {
   "display_name": "Python 3 (ipykernel)",
   "language": "python",
   "name": "python3"
  },
  "language_info": {
   "codemirror_mode": {
    "name": "ipython",
    "version": 3
   },
   "file_extension": ".py",
   "mimetype": "text/x-python",
   "name": "python",
   "nbconvert_exporter": "python",
   "pygments_lexer": "ipython3",
   "version": "3.9.7"
  }
 },
 "nbformat": 4,
 "nbformat_minor": 5
}
